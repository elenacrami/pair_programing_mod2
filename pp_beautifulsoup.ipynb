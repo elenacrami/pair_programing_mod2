{
 "cells": [
  {
   "cell_type": "markdown",
   "metadata": {},
   "source": [
    "Enunciado: Escribe una función llamada scrape_coches_ocasion que acepta una URL como argumento y devuelve un DataFrame de pandas con información sobre coches de ocasión encontrados en la página web especificada. La función realizará las siguientes tareas:"
   ]
  },
  {
   "cell_type": "markdown",
   "metadata": {},
   "source": [
    "1. Realizará una solicitud HTTP GET a la siguiente url."
   ]
  },
  {
   "cell_type": "markdown",
   "metadata": {},
   "source": [
    "2. Comprobará el código de estado de la respuesta. Si el código no es 200 (OK), imprimirá un mensaje de error y retornará None."
   ]
  },
  {
   "cell_type": "markdown",
   "metadata": {},
   "source": [
    "3. Extraerá los nombres de los coches, los precios rebajados, los precios originales y la información de los kilómetros recorridos de la página."
   ]
  },
  {
   "cell_type": "markdown",
   "metadata": {},
   "source": [
    "4. Organizará los datos extraídos en un DataFrame de pandas con las siguientes columnas:\n",
    "\n",
    "\"coche\": Nombres de los coches.\n",
    "\n",
    "\"precio_rebajado\": Precios rebajados.\n",
    "\n",
    "\"precio_original\": Precios originales.\n",
    "\n",
    "\"km\": Kilómetros recorridos."
   ]
  },
  {
   "cell_type": "markdown",
   "metadata": {},
   "source": [
    "5. Retornará el DataFrame resultante."
   ]
  },
  {
   "cell_type": "markdown",
   "metadata": {},
   "source": [
    "6. Una vez extraida toda la información deberéis almacenar toda la información en un DataFrame. El DataFrame debe tener un aspecto parecido a este:\n",
    "(mirar la tabla en la pag web del book)"
   ]
  },
  {
   "cell_type": "code",
   "execution_count": 33,
   "metadata": {},
   "outputs": [
    {
     "name": "stdout",
     "output_type": "stream",
     "text": [
      "La lista de nombres es: [<span class=\"cardVehicle_spot__e6YZx\" data-test=\"span-brand-model\">Volvo V60 Cross Country</span>, <span class=\"cardVehicle_spot__e6YZx\" data-test=\"span-brand-model\">Volkswagen Golf</span>, <span class=\"cardVehicle_spot__e6YZx\" data-test=\"span-price\">24.990€</span>, <span class=\"cardVehicle_spot__e6YZx\" data-test=\"span-brand-model\">Seat Ibiza</span>, <span class=\"cardVehicle_spot__e6YZx\" data-test=\"span-price\">13.300€</span>, <span class=\"cardVehicle_spot__e6YZx\" data-test=\"span-brand-model\">Ford Ka+</span>, <span class=\"cardVehicle_spot__e6YZx\" data-test=\"span-price\">10.290€</span>, <span class=\"cardVehicle_spot__e6YZx\" data-test=\"span-brand-model\">Renault Captur</span>, <span class=\"cardVehicle_spot__e6YZx\" data-test=\"span-brand-model\">Ssangyong Tivoli</span>, <span class=\"cardVehicle_spot__e6YZx\" data-test=\"span-price\">19.990€</span>, <span class=\"cardVehicle_spot__e6YZx\" data-test=\"span-brand-model\">Opel Astra</span>, <span class=\"cardVehicle_spot__e6YZx\" data-test=\"span-brand-model\">Citroën C3 Aircross</span>, <span class=\"cardVehicle_spot__e6YZx\" data-test=\"span-price\">13.400€</span>, <span class=\"cardVehicle_spot__e6YZx\" data-test=\"span-brand-model\">Hyundai Kona</span>, <span class=\"cardVehicle_spot__e6YZx\" data-test=\"span-price\">18.173€</span>, <span class=\"cardVehicle_spot__e6YZx\" data-test=\"span-brand-model\">Seat Ibiza</span>, <span class=\"cardVehicle_spot__e6YZx\" data-test=\"span-price\">9.900€</span>, <span class=\"cardVehicle_spot__e6YZx\" data-test=\"span-brand-model\">Mercedes Vito</span>, <span class=\"cardVehicle_spot__e6YZx\" data-test=\"span-price\">22.190€</span>, <span class=\"cardVehicle_spot__e6YZx\" data-test=\"span-brand-model\">Mitsubishi Eclipse Cross</span>, <span class=\"cardVehicle_spot__e6YZx\" data-test=\"span-price\">22.892€</span>, <span class=\"cardVehicle_spot__e6YZx\" data-test=\"span-brand-model\">Mitsubishi Eclipse Cross</span>, <span class=\"cardVehicle_spot__e6YZx\" data-test=\"span-price\">23.057€</span>, <span class=\"cardVehicle_spot__e6YZx\" data-test=\"span-brand-model\">Peugeot 508</span>, <span class=\"cardVehicle_spot__e6YZx\" data-test=\"span-price\">16.446€</span>, <span class=\"cardVehicle_spot__e6YZx\" data-test=\"span-brand-model\">Peugeot 3008</span>, <span class=\"cardVehicle_spot__e6YZx\" data-test=\"span-price\">17.603€</span>, <span class=\"cardVehicle_spot__e6YZx\" data-test=\"span-brand-model\">Peugeot Rifter</span>, <span class=\"cardVehicle_spot__e6YZx\" data-test=\"span-price\">21.074€</span>, <span class=\"cardVehicle_spot__e6YZx\" data-test=\"span-brand-model\">Cupra Formentor</span>, <span class=\"cardVehicle_spot__e6YZx\" data-test=\"span-price\">25.700€</span>, <span class=\"cardVehicle_spot__e6YZx\" data-test=\"span-brand-model\">Nissan Micra</span>, <span class=\"cardVehicle_spot__e6YZx\" data-test=\"span-price\">7.900€</span>, <span class=\"cardVehicle_spot__e6YZx\" data-test=\"span-brand-model\">Seat León</span>, <span class=\"cardVehicle_spot__e6YZx\" data-test=\"span-price\">29.900€</span>, <span class=\"cardVehicle_spot__e6YZx\" data-test=\"span-brand-model\">Volkswagen T-Roc</span>, <span class=\"cardVehicle_spot__e6YZx\" data-test=\"span-price\">18.553€</span>]\n",
      "['Volvo V60 Cross Country', 'Volkswagen Golf', '24.990€', 'Seat Ibiza', '13.300€', 'Ford Ka+', '10.290€', 'Renault Captur', 'Ssangyong Tivoli', '19.990€', 'Opel Astra', 'Citroën C3 Aircross', '13.400€', 'Hyundai Kona', '18.173€', 'Seat Ibiza', '9.900€', 'Mercedes Vito', '22.190€', 'Mitsubishi Eclipse Cross', '22.892€', 'Mitsubishi Eclipse Cross', '23.057€', 'Peugeot 508', '16.446€', 'Peugeot 3008', '17.603€', 'Peugeot Rifter', '21.074€', 'Cupra Formentor', '25.700€', 'Nissan Micra', '7.900€', 'Seat León', '29.900€', 'Volkswagen T-Roc', '18.553€']\n",
      "Tras haber quitado los precios, nuestra lista queda así:\n",
      " ['Volvo V60 Cross Country', 'Volkswagen Golf', 'Seat Ibiza', 'Ford Ka+', 'Renault Captur', 'Ssangyong Tivoli', 'Opel Astra', 'Citroën C3 Aircross', 'Hyundai Kona', 'Seat Ibiza', 'Mercedes Vito', 'Mitsubishi Eclipse Cross', 'Mitsubishi Eclipse Cross', 'Peugeot 508', 'Peugeot 3008', 'Peugeot Rifter', 'Cupra Formentor', 'Nissan Micra', 'Seat León', 'Volkswagen T-Roc']\n"
     ]
    }
   ],
   "source": [
    "from bs4 import BeautifulSoup\n",
    "import requests\n",
    "import pandas as pd\n",
    "import re\n",
    "\n",
    "\n",
    "url = \"https://www.ocasionplus.com/coches-ocasion?v2&orderBy=morePopular\"\n",
    "llamada_coches = requests.get(url)\n",
    "if llamada_coches.status_code == 200:\n",
    "\n",
    "    # nombres de los coches \n",
    "    # los precios rebajados \n",
    "    # los precios originales\n",
    "    # kilómetros recorridos\n",
    "\n",
    "    sopa_coches = BeautifulSoup(llamada_coches.content, \"html.parser\")\n",
    "    # print(sopa_coches.prettify())\n",
    "    lista_nombres = sopa_coches.find_all(\"span\", {\"class\": \"cardVehicle_spot__e6YZx\"})\n",
    "    print(f\"La lista de nombres es: {lista_nombres}\")\n",
    "\n",
    "   #  print(lista_nombres[2])\n",
    "\n",
    "    lista_nombres_coches = []\n",
    "\n",
    "    for coche in lista_nombres:\n",
    "        lista_nombres_coches.append(coche.get_text())\n",
    "    print(lista_nombres_coches)\n",
    "        \n",
    "    \n",
    "    # Vamos a usar regex para buscar un patrón \n",
    "    \n",
    "    patron1 = r\"€\"\n",
    "\n",
    "    for cadena in lista_nombres_coches:\n",
    "        if re.findall(patron1, cadena):\n",
    "            # print(f\"Hemos encontrado una cadena con numeros: {cadena}, que habría que sacar de la lista\")\n",
    "            lista_nombres_coches.remove(cadena)\n",
    "\n",
    "        else:\n",
    "            # print(f\"Esta {cadena} se quedaría en la lista\")\n",
    "            pass\n",
    "    \n",
    "    print(f\"Tras haber quitado los precios, nuestra lista queda así:\\n {lista_nombres_coches}\")\n",
    "\n",
    "\n",
    "    # Precios rebajados\n",
    "\n",
    " \n",
    "\n",
    "\n",
    "\n",
    "    \n",
    "else:\n",
    "    print(\"Error: la llamada a la url pasada no se ha podido efectuar\")\n",
    "\n"
   ]
  },
  {
   "cell_type": "code",
   "execution_count": 56,
   "metadata": {},
   "outputs": [
    {
     "name": "stdout",
     "output_type": "stream",
     "text": [
      "Precios rebajados limpios:\n",
      "\n",
      "['17.850€', '22.718€', '12.090€', '9.354€', '13.990€', '18.172€', '3.600€', '12.181€', '16.521€', '9.000€', '20.172€', '20.811€', '20.961€', '14.951€', '16.003€', '19.158€', '23.363€', '7.181€', '27.182€', '16.867€']\n",
      "Primer for: [17850, 22718, 12090, 9354, 13990, 18172, 3600, 12181, 16521, 9000, 20172, 20811, 20961, 14951, 16003, 19158, 23363, 7181, 27182, 16867]\n"
     ]
    }
   ],
   "source": [
    "# Precios rebajados\n",
    "\n",
    "lista_precios_rebajados_bruto = sopa_coches.find_all(\"span\", {\"class\":\"cardVehicle_finance__SG6JV\"})\n",
    "\n",
    "lista_precios_rebajados_limpios = []\n",
    "\n",
    "for elemento in lista_precios_rebajados_bruto:\n",
    "    cadena = elemento.getText()\n",
    "    \n",
    "    patron1 = r\"€\"\n",
    "\n",
    "    # Si la cadena tiene un patron de precio, la metemos en nuestra lista_precios_rebajados_limpios . Si no, pasamos de ella.\n",
    "    if re.findall(patron1, cadena): \n",
    "        lista_precios_rebajados_limpios.append(cadena)\n",
    "\n",
    "    else: \n",
    "        pass\n",
    "\n",
    "print(f\"Precios rebajados limpios:\\n\\n{lista_precios_rebajados_limpios}\")\n",
    "\n",
    "# Hemos conseguidos los precios rebajados en nuestra lista. Pero podemos limpiarlos mejor:\n",
    "# Podemos quitar el euro y pasar a float\n",
    "\n",
    "for indice, cadena in enumerate (lista_precios_rebajados_limpios):\n",
    "    # print(indice, cadena)\n",
    "    lista_precios_rebajados_limpios[indice] = int(cadena.replace(\"€\",\"\").replace(\".\", \"\"))\n",
    "\n",
    "    # float(cadena.replace(\"€\", \"\"))\n",
    "    # cadena = float(cadena.replace(\"€\", \"\"))\n",
    "\n",
    "print(f\"Primer for: {lista_precios_rebajados_limpios}\")\n",
    "\n"
   ]
  },
  {
   "cell_type": "code",
   "execution_count": null,
   "metadata": {},
   "outputs": [],
   "source": [
    "# Lo hicimos en list comprehension y nos funcionó\n",
    "\n",
    "# lista_precios_rebajados_limpios2 = [float(cadena.replace(\"€\", \"\")) for cadena in lista_precios_rebajados_limpios]\n",
    "# print(f\"Segundo for: {lista_precios_rebajados_limpios2}\")"
   ]
  },
  {
   "cell_type": "code",
   "execution_count": null,
   "metadata": {},
   "outputs": [],
   "source": [
    "# cardVehicle_spot__e6YZx\n",
    "\n",
    "# Precios original\n",
    "\n",
    "lista_precios_rebajados_bruto = sopa_coches.find_all(\"span\", {\"class\":\"cardVehicle_finance__SG6JV\"})\n",
    "\n",
    "lista_precios_rebajados_limpios = []\n",
    "\n",
    "for elemento in lista_precios_rebajados_bruto:\n",
    "    cadena = elemento.getText()\n",
    "    \n",
    "    patron1 = r\"€\"\n",
    "\n",
    "    # Si la cadena tiene un patron de precio, la metemos en nuestra lista_precios_rebajados_limpios . Si no, pasamos de ella.\n",
    "    if re.findall(patron1, cadena): \n",
    "        lista_precios_rebajados_limpios.append(cadena)\n",
    "\n",
    "    else: \n",
    "        pass\n",
    "\n",
    "print(f\"Precios rebajados limpios:\\n\\n{lista_precios_rebajados_limpios}\")\n",
    "\n",
    "# Hemos conseguidos los precios rebajados en nuestra lista. Pero podemos limpiarlos mejor:\n",
    "# Podemos quitar el euro y pasar a float\n",
    "\n",
    "for indice, cadena in enumerate (lista_precios_rebajados_limpios):\n",
    "    # print(indice, cadena)\n",
    "    lista_precios_rebajados_limpios[indice] = int(cadena.replace(\"€\",\"\").replace(\".\", \"\"))\n",
    "\n",
    "    # float(cadena.replace(\"€\", \"\"))\n",
    "    # cadena = float(cadena.replace(\"€\", \"\"))\n",
    "\n",
    "print(f\"Primer for: {lista_precios_rebajados_limpios}\")\n",
    "\n"
   ]
  },
  {
   "cell_type": "code",
   "execution_count": null,
   "metadata": {},
   "outputs": [],
   "source": []
  }
 ],
 "metadata": {
  "kernelspec": {
   "display_name": "base",
   "language": "python",
   "name": "python3"
  },
  "language_info": {
   "codemirror_mode": {
    "name": "ipython",
    "version": 3
   },
   "file_extension": ".py",
   "mimetype": "text/x-python",
   "name": "python",
   "nbconvert_exporter": "python",
   "pygments_lexer": "ipython3",
   "version": "3.12.4"
  }
 },
 "nbformat": 4,
 "nbformat_minor": 2
}
