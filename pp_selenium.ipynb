{
 "cells": [
  {
   "cell_type": "markdown",
   "metadata": {},
   "source": [
    "## Ejercicios Selenium Extracción de Datos de Libros de Ficción en La Casa del Libro\n",
    "\n",
    "Imagina que eres un analista de datos en una importante cadena de librerías y tu misión es recopilar información actualizada sobre los libros de ficción disponibles en el mercado. Esta información es vital para tomar decisiones estratégicas, como determinar qué libros de ficción deben ser promocionados, ajustar los precios competitivamente y gestionar adecuadamente el inventario. La Casa del Libro es uno de los principales competidores, por lo que es esencial mantenerse al tanto de su catálogo.\n",
    "\n",
    "### Objetivo: \n",
    "utilizar Selenium en Python para **automatizar la extracción de datos de los libros de ficción** en el sitio web de La Casa del Libro. \n",
    "\n",
    "**obtener información clave** de los libros, incluyendo *título, autor, precio, editorial, idioma y número de páginas*."
   ]
  },
  {
   "cell_type": "markdown",
   "metadata": {},
   "source": [
    "### Descripción:\n",
    "- Acceso a la Página de La Casa del Libro: Utilizando Selenium, deberás automatizar el proceso de navegación hacia la página de libros de ficción en el sitio web de La Casa del Libro.\n",
    "\n",
    "- Extracción de Datos de las 5 Primeras Páginas: Una vez en la página de libros de ficción, debes programar su script para que recorra los 5 primeros libros de libros, extrayendo los siguientes datos de cada libro:\n",
    "\n",
    "Título del libro.\n",
    "\n",
    "Autor(es) del libro.\n",
    "\n",
    "Precio del libro.\n",
    "\n",
    "Editorial del libro.\n",
    "\n",
    "Idioma del libro.\n",
    "\n",
    "Número de páginas del libro.\n",
    "\n",
    "- Almacenamiento de Datos: Los datos extraídos deben almacenarse en un DataFrame."
   ]
  },
  {
   "cell_type": "code",
   "execution_count": 13,
   "metadata": {},
   "outputs": [],
   "source": [
    "# Importar librerías para tratamiento de datos\n",
    "# -----------------------------------------------------------------------\n",
    "import pandas as pd  # Poderosa librería para manipulación y análisis de datos en Python.\n",
    "\n",
    "# Importar librerías para web scraping y manipulación de datos\n",
    "# -----------------------------------------------------------------------\n",
    "from bs4 import BeautifulSoup\n",
    "import requests\n",
    "\n",
    "# Importar librerías para automatización de navegadores web con Selenium\n",
    "# -----------------------------------------------------------------------\n",
    "from selenium import webdriver  # Selenium es una herramienta para automatizar la interacción con navegadores web.\n",
    "from webdriver_manager.chrome import ChromeDriverManager  # ChromeDriverManager gestiona la instalación del controlador de Chrome.\n",
    "from selenium.webdriver.common.keys import Keys  # Keys es útil para simular eventos de teclado en Selenium.\n",
    "from selenium.webdriver.support.ui import Select  # Select se utiliza para interactuar con elementos <select> en páginas web.\n",
    "\n",
    "# Importar librerías para pausar la ejecución\n",
    "# -----------------------------------------------------------------------\n",
    "from time import sleep  # Sleep se utiliza para pausar la ejecución del programa por un número de segundos.\n",
    "\n",
    "# Configuraciones\n",
    "# -----------------------------------------------------------------------\n",
    "pd.set_option('display.max_columns', None)  # Establece una opción de Pandas para mostrar todas las columnas de un DataFrame."
   ]
  },
  {
   "cell_type": "code",
   "execution_count": 18,
   "metadata": {},
   "outputs": [
    {
     "name": "stdout",
     "output_type": "stream",
     "text": [
      "Accediendo a la página web.\n",
      "Maximizando pantalla.\n",
      "Aceptamos cookies.\n",
      "Entrando a la info del libro.\n"
     ]
    }
   ],
   "source": [
    "# Inicializar un navegador web Chrome a través de WebDriver\n",
    "driver = webdriver.Chrome()\n",
    "\n",
    "# Crear una variable con la url a la que me quiero dirigir\n",
    "url_casalibro = \"https://www.casadellibro.com/\"\n",
    "driver.get(url_casalibro)\n",
    "print(\"Accediendo a la página web.\")\n",
    "\n",
    "# Maximizar la ventana del navegador para mostrar la página completa\n",
    "driver.maximize_window()\n",
    "print(\"Maximizando pantalla.\")\n",
    "\n",
    "# Esperar 3 segundos para que la página cargue completamente\n",
    "sleep(3)\n",
    "\n",
    "# Aceptar las cookies haciendo clic en el botón correspondiente\n",
    "driver.find_element(\"css selector\", \"#onetrust-accept-btn-handler\").click()\n",
    "print(\"Aceptamos cookies.\")\n",
    "\n",
    "sleep(3)\n",
    "\n",
    "# Entrar en el hipervinculo de Ficcion (planteamos dos formas a. \"link text\" / b. \"css selector\")\n",
    "#driver.find_element(\"link text\", \"Ficción\").click()\n",
    "driver.find_element(\"css selector\", \"#app > div.v-application--wrap > div.when-mobile > div.cabecera.desktop > div.bottom-row > div > div > div:nth-child(2) > a\").click()\n",
    "\n",
    "sleep(5)\n",
    "\n",
    "# Hacemos scroll en la pagina\n",
    "# driver.execute_script(\"window.scrollTo(0,1000)\")\n",
    "# print(\"Hacemos scroll.\")\n",
    "\n",
    "# Defino diccionario\n",
    "# Al usar un diccionario cuyas claves son listas, puedo utilizar el metodo .append (metodos de listas) para ir agregando elementos al diccionario\n",
    "dict_info_libros = {\"titulo\": [], \"autor\": [], \"precio\": [], \"editorial\": [], \"idioma\": [], \"paginas\": []}\n",
    "\n",
    "for i in range(1,6):\n",
    "    # Hago click en un libro\n",
    "    driver.find_element(\"css selector\",\"#buscadorNF > div.col-md-9.col-12 > div > div.grid-view.mt-4 > div:nth-child(1)\").click()\n",
    "    print(\"Entrando a la info del libro.\")\n",
    "\n",
    "    sleep(5)\n",
    "\n",
    "    # Recopilo info relevante: titulo, autor, precio, editorial, idioma, paginas\n",
    "    nombre_titulo = driver.find_element(\"css selector\",\"#app > div.v-application--wrap > main > div > div > div > div:nth-child(3) > div > div > div.col-md-5.order-lg-2.col-12.order-1 > div > h1\").text\n",
    "    dict_info_libros[\"titulo\"].append(nombre_titulo)\n",
    "\n",
    "    nombre_autor = driver.find_element(\"css selector\",\"#app > div.v-application--wrap > main > div > div > div > div:nth-child(3) > div > div > div.col-md-5.order-lg-2.col-12.order-1 > div > div.text-h5.d-flex.flex-wrap.author.mb-2.justify-center.justify-sm-start > div > a > span:nth-child(1)\").text\n",
    "    dict_info_libros[\"autor\"].append(nombre_autor)\n",
    "\n",
    "    precio = driver.find_element(\"css selector\",\"#app > div.v-application--wrap > main > div > div > div > div:nth-child(3) > div > div > div.border-left.col-md-4.col-12.order-3 > div > div:nth-child(3) > div.col.col-8 > strong\").text\n",
    "    dict_info_libros[\"precio\"].append(precio)\n",
    "\n",
    "    nombre_editorial = driver.find_element(\"css selector\",\"#app > div.v-application--wrap > main > div > div > div > div:nth-child(3) > div > div > div.col-md-5.order-lg-2.col-12.order-1 > div > div.d-none.d-md-inline > div:nth-child(1) > span:nth-child(1)\").text\n",
    "    dict_info_libros[\"editorial\"].append(nombre_editorial)\n",
    "\n",
    "    idioma = driver.find_element(\"css selector\",\"#app > div.v-application--wrap > main > div > div > div > div:nth-child(6) > div > div > div.caracteristicas.mt-4.pt-4 > div:nth-child(3) > div > span\").text\n",
    "    dict_info_libros[\"idioma\"].append(idioma)\n",
    "\n",
    "    num_pags = driver.find_element(\"css selector\", \"#app > div.v-application--wrap > main > div > div > div > div:nth-child(6) > div > div > div.caracteristicas.mt-4.pt-4 > div:nth-child(4) > div > span\").text\n",
    "    dict_info_libros[\"paginas\"].append(num_pags)\n",
    "\n",
    "    \n",
    "    #sleep(2)\n",
    "    #driver.back()\n",
    "\n",
    "# Cerramos el navegador\n",
    "#driver.close()"
   ]
  },
  {
   "cell_type": "code",
   "execution_count": 19,
   "metadata": {},
   "outputs": [
    {
     "data": {
      "text/plain": [
       "{'titulo': ['EL VIZCONDE QUE ME AMÓ ED. ESPECIAL'],\n",
       " 'autor': ['JULIA QUINN'],\n",
       " 'precio': ['19,95 €'],\n",
       " 'editorial': ['Titania'],\n",
       " 'idioma': ['Castellano'],\n",
       " 'paginas': ['384']}"
      ]
     },
     "execution_count": 19,
     "metadata": {},
     "output_type": "execute_result"
    }
   ],
   "source": [
    "dict_info_libros"
   ]
  },
  {
   "cell_type": "code",
   "execution_count": null,
   "metadata": {},
   "outputs": [],
   "source": [
    "# Almacenamiento de datos en DataFrame\n",
    "df_casalibro = pd.DataFrame()"
   ]
  }
 ],
 "metadata": {
  "kernelspec": {
   "display_name": "base",
   "language": "python",
   "name": "python3"
  },
  "language_info": {
   "codemirror_mode": {
    "name": "ipython",
    "version": 3
   },
   "file_extension": ".py",
   "mimetype": "text/x-python",
   "name": "python",
   "nbconvert_exporter": "python",
   "pygments_lexer": "ipython3",
   "version": "3.12.4"
  }
 },
 "nbformat": 4,
 "nbformat_minor": 2
}
